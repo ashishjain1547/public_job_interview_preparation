{
 "cells": [
  {
   "cell_type": "code",
   "execution_count": null,
   "id": "9ed95692-248b-44b7-b993-34bb468f4c39",
   "metadata": {},
   "outputs": [],
   "source": []
  }
 ],
 "metadata": {
  "kernelspec": {
   "display_name": "googleai_202406",
   "language": "python",
   "name": "googleai_202406"
  },
  "language_info": {
   "codemirror_mode": {
    "name": "ipython",
    "version": 3
   },
   "file_extension": ".py",
   "mimetype": "text/x-python",
   "name": "python",
   "nbconvert_exporter": "python",
   "pygments_lexer": "ipython3",
   "version": "3.12.4"
  }
 },
 "nbformat": 4,
 "nbformat_minor": 5
}
