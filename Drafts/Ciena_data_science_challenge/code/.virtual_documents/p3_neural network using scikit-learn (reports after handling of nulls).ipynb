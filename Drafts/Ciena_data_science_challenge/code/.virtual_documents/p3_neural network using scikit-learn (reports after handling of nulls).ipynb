import pandas as pd
from sklearn.model_selection import train_test_split
from sklearn.metrics import accuracy_score
from sklearn.preprocessing import StandardScaler
from sklearn.neural_network import MLPRegressor


df = pd.read_csv('TrainingDataset.csv')
df


df = df.dropna(subset=['Outcome_M1', 'Outcome_M2', 'Outcome_M3', 'Outcome_M4', 'Outcome_M5', 'Outcome_M6',
                       'Outcome_M7', 'Outcome_M8', 'Outcome_M9', 'Outcome_M10', 'Outcome_M11', 'Outcome_M12'])


df_temp = df.drop(['Outcome_M2', 'Outcome_M3', 'Outcome_M4', 'Outcome_M5', 'Outcome_M6',
       'Outcome_M7', 'Outcome_M8', 'Outcome_M9', 'Outcome_M10', 'Outcome_M11', 'Outcome_M12'], axis=1)





df_temp2 = df_temp.dropna()


df_temp2





df_temp2 = df_temp.fillna(df_temp.median())


X = df_temp2[list(set(df_temp2.columns) - set(['Outcome_M1']))]



y = df_temp2[['Outcome_M1']]


X_train, X_test, y_train, y_test = train_test_split(X, y, test_size=0.2, random_state=42)


# Scale the data
scaler = StandardScaler()
X_train = scaler.fit_transform(X_train)
X_test = scaler.transform(X_test)

# Create the model
model = MLPRegressor(hidden_layer_sizes=(128, 64, 32), activation='relu', solver='adam', max_iter=2000)

# Train the model
model.fit(X_train, y_train)

# Make predictions on the testing data
y_pred = model.predict(X_test)


import numpy as np

def mse(y_pred, y_true):
    return np.mean((y_pred - y_true) ** 2)

mse_value = mse(y_pred, y_test['Outcome_M1'].values)
print("MSE:", mse_value)






