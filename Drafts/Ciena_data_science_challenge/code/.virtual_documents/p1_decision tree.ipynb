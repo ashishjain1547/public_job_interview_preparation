import pandas as pd


df = pd.read_csv('TrainingDataset.csv')
df


df = df.dropna(subset=['Outcome_M1', 'Outcome_M2', 'Outcome_M3', 'Outcome_M4', 'Outcome_M5', 'Outcome_M6',
                       'Outcome_M7', 'Outcome_M8', 'Outcome_M9', 'Outcome_M10', 'Outcome_M11', 'Outcome_M12'])


df.shape


outcomes = ['Outcome_M1', 'Outcome_M2', 'Outcome_M3', 'Outcome_M4', 'Outcome_M5', 'Outcome_M6',
       'Outcome_M7', 'Outcome_M8', 'Outcome_M9', 'Outcome_M10', 'Outcome_M11', 'Outcome_M12']
df_outcomes = df[outcomes]
df_outcomes.corr()


df[outcomes].plot(kind='line')


outcomes_last_6 = ['Outcome_M7', 'Outcome_M8', 'Outcome_M9', 'Outcome_M10', 'Outcome_M11', 'Outcome_M12']
df[outcomes_last_6].plot(kind='line')


df.boxplot(column=outcomes, showfliers=False)


df_temp = df.drop(['Outcome_M2', 'Outcome_M3', 'Outcome_M4', 'Outcome_M5', 'Outcome_M6',
       'Outcome_M7', 'Outcome_M8', 'Outcome_M9', 'Outcome_M10', 'Outcome_M11', 'Outcome_M12'], axis=1)





for i in df_temp.columns:
    na_count = df_temp[i].isnull().sum()
    na_percentage = na_count / len(df_temp) * 100
    if na_percentage > 1:
        print(f"Column {i} has {na_percentage:.2f}% null values")





X = df_temp[list(set(df_temp.columns) - set(['Outcome_M1']))]



X.columns


y = df_temp[['Outcome_M1']]


from sklearn.ensemble import RandomForestRegressor
from sklearn.model_selection import train_test_split
from sklearn.metrics import accuracy_score

# Split the data into training and testing sets
X_train, X_test, y_train, y_test = train_test_split(X, y, test_size=0.2, random_state=42)

# Create a random forest classifier model
model = RandomForestRegressor(n_estimators=100, random_state=42)

# Train the model on the training data
model.fit(X_train, y_train)

# Make predictions on the testing data
y_pred = model.predict(X_test)


y_pred


y_test['Outcome_M1'].values


import numpy as np

def mse(y_pred, y_true):
    return np.mean((y_pred - y_true) ** 2)

mse_value = mse(y_pred, y_test['Outcome_M1'].values)
print("MSE:", mse_value)






